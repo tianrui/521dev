{
 "cells": [
  {
   "cell_type": "code",
   "execution_count": 1,
   "metadata": {
    "collapsed": true
   },
   "outputs": [],
   "source": [
    "import tensorflow as tf\n",
    "import numpy as np"
   ]
  },
  {
   "cell_type": "code",
   "execution_count": 2,
   "metadata": {
    "collapsed": true
   },
   "outputs": [],
   "source": [
    "with np.load(\"notMNIST.npz\") as data:\n",
    "    Data, Target = data [\"images\"], data[\"labels\"]\n",
    "    np.random.seed(521)\n",
    "    randIndx = np.arange(len(Data))\n",
    "    np.random.shuffle(randIndx)\n",
    "    Data = Data[randIndx]/255.\n",
    "    Target = Target[randIndx]\n",
    "    trainData, trainTarget = Data[:15000], Target[:15000]\n",
    "    validData, validTarget = Data[15000:16000], Target[15000:16000]\n",
    "    testData, testTarget = Data[16000:], Target[16000:]"
   ]
  },
  {
   "cell_type": "code",
   "execution_count": 3,
   "metadata": {
    "collapsed": false
   },
   "outputs": [],
   "source": [
    "def linear(x, numHidden):\n",
    "    numInput = int(x.get_shape()[1])\n",
    "    tmp = (numInput+numHidden)\n",
    "    weights = tf.Variable(tf.random_normal([numInput, numHidden], \n",
    "                          stddev=tf.sqrt(1./tmp)), \n",
    "                          name = \"w\")\n",
    "    bias = tf.Variable(tf.zeros( [numHidden,]), name=\"b\")\n",
    "    weights_loss = tf.reduce_sum(weights**2)/2.\n",
    "    tf.add_to_collection(\"weights_loss\", weights_loss)\n",
    "    return tf.nn.bias_add(tf.matmul(x, weights), bias)"
   ]
  },
  {
   "cell_type": "code",
   "execution_count": 4,
   "metadata": {
    "collapsed": false,
    "scrolled": true
   },
   "outputs": [],
   "source": [
    "tf.reset_default_graph()\n",
    "\n",
    "x = tf.placeholder(tf.float32, shape=(None, 28,28))\n",
    "y_target = tf.placeholder(tf.float32, [None,], name='target_y')\n",
    "y_onehot = tf.to_float(tf.equal(tf.expand_dims(y_target, 1),\n",
    "                                tf.to_float(tf.constant(\n",
    "                                    np.arange(10).reshape(1,-1)))))\n",
    "x_reshape = tf.reshape(x, [-1, 28*28])\n",
    "h = x_reshape\n",
    "for i in range(1):\n",
    "    h = tf.nn.relu(linear(h, 1000))\n",
    "yhat = (linear(h, 10))\n",
    "crossEntropyError = tf.reduce_mean(\n",
    "                tf.nn.softmax_cross_entropy_with_logits(yhat, y_onehot))\n",
    "weightsError = tf.add_n(tf.get_collection(\"weights_loss\"))\n",
    "loss = crossEntropyError + 3e-4*weightsError\n",
    "acc = tf.reduce_mean(tf.to_float(\n",
    "                    tf.equal(tf.to_float(tf.arg_max(yhat, 1)), \n",
    "                             tf.to_float(y_target))))\n",
    "train_op = tf.train.AdamOptimizer(learning_rate=0.001,).minimize(loss)"
   ]
  },
  {
   "cell_type": "code",
   "execution_count": 5,
   "metadata": {
    "collapsed": false
   },
   "outputs": [],
   "source": [
    "init = tf.initialize_all_variables()\n",
    "sess = tf.InteractiveSession()"
   ]
  },
  {
   "cell_type": "code",
   "execution_count": 9,
   "metadata": {
    "collapsed": false
   },
   "outputs": [
    {
     "data": {
      "text/plain": [
       "0.079999998"
      ]
     },
     "execution_count": 9,
     "metadata": {},
     "output_type": "execute_result"
    }
   ],
   "source": [
    "sess.run(init)\n",
    "loss.eval(feed_dict={x:validData, y_target:validTarget})\n",
    "acc.eval(feed_dict={x:validData, y_target:validTarget})"
   ]
  },
  {
   "cell_type": "code",
   "execution_count": 10,
   "metadata": {
    "collapsed": true
   },
   "outputs": [],
   "source": [
    "B = 500"
   ]
  },
  {
   "cell_type": "code",
   "execution_count": null,
   "metadata": {
    "collapsed": false,
    "scrolled": true
   },
   "outputs": [
    {
     "name": "stdout",
     "output_type": "stream",
     "text": [
      "Iter:   0, CE-train: 0.42, CE-valid: 0.49, Acc-train: 0.88, Acc-valid: 0.8930\n",
      "Iter:   1, CE-train: 0.33, CE-valid: 0.45, Acc-train: 0.91, Acc-valid: 0.9060\n",
      "Iter:   2, CE-train: 0.28, CE-valid: 0.43, Acc-train: 0.93, Acc-valid: 0.9110\n",
      "Iter:   3, CE-train: 0.25, CE-valid: 0.40, Acc-train: 0.93, Acc-valid: 0.9100\n",
      "Iter:   4, CE-train: 0.21, CE-valid: 0.39, Acc-train: 0.94, Acc-valid: 0.9210\n",
      "Iter:   5, CE-train: 0.17, CE-valid: 0.40, Acc-train: 0.95, Acc-valid: 0.9230\n",
      "Iter:   6, CE-train: 0.17, CE-valid: 0.39, Acc-train: 0.96, Acc-valid: 0.9270\n",
      "Iter:   7, CE-train: 0.15, CE-valid: 0.42, Acc-train: 0.97, Acc-valid: 0.9240\n",
      "Iter:   8, CE-train: 0.12, CE-valid: 0.39, Acc-train: 0.97, Acc-valid: 0.9310\n",
      "Iter:   9, CE-train: 0.10, CE-valid: 0.40, Acc-train: 0.97, Acc-valid: 0.9300\n",
      "Iter:  10, CE-train: 0.07, CE-valid: 0.40, Acc-train: 0.98, Acc-valid: 0.9340\n",
      "Iter:  11, CE-train: 0.06, CE-valid: 0.41, Acc-train: 0.99, Acc-valid: 0.9370\n",
      "Iter:  12, CE-train: 0.09, CE-valid: 0.42, Acc-train: 0.97, Acc-valid: 0.9280\n",
      "Iter:  13, CE-train: 0.04, CE-valid: 0.44, Acc-train: 0.99, Acc-valid: 0.9220\n",
      "Iter:  14, CE-train: 0.08, CE-valid: 0.41, Acc-train: 0.98, Acc-valid: 0.9320\n",
      "Iter:  15, CE-train: 0.07, CE-valid: 0.45, Acc-train: 0.98, Acc-valid: 0.9240\n",
      "Iter:  16, CE-train: 0.08, CE-valid: 0.41, Acc-train: 0.98, Acc-valid: 0.9280\n",
      "Iter:  17, CE-train: 0.06, CE-valid: 0.43, Acc-train: 0.98, Acc-valid: 0.9190\n",
      "Iter:  18, CE-train: 0.05, CE-valid: 0.39, Acc-train: 0.99, Acc-valid: 0.9330\n",
      "Iter:  19, CE-train: 0.07, CE-valid: 0.42, Acc-train: 0.99, Acc-valid: 0.9290\n",
      "Iter:  20, CE-train: 0.07, CE-valid: 0.41, Acc-train: 0.98, Acc-valid: 0.9290\n",
      "Iter:  21, CE-train: 0.03, CE-valid: 0.39, Acc-train: 0.99, Acc-valid: 0.9260\n",
      "Iter:  22, CE-train: 0.05, CE-valid: 0.41, Acc-train: 0.99, Acc-valid: 0.9280\n",
      "Iter:  23, CE-train: 0.03, CE-valid: 0.42, Acc-train: 1.00, Acc-valid: 0.9290\n",
      "Iter:  24, CE-train: 0.04, CE-valid: 0.41, Acc-train: 0.99, Acc-valid: 0.9310\n",
      "Iter:  25, CE-train: 0.03, CE-valid: 0.41, Acc-train: 0.99, Acc-valid: 0.9330\n",
      "Iter:  26, CE-train: 0.03, CE-valid: 0.42, Acc-train: 0.99, Acc-valid: 0.9280\n",
      "Iter:  27, CE-train: 0.02, CE-valid: 0.40, Acc-train: 1.00, Acc-valid: 0.9390\n",
      "Iter:  28, CE-train: 0.03, CE-valid: 0.40, Acc-train: 0.99, Acc-valid: 0.9270\n",
      "Iter:  29, CE-train: 0.03, CE-valid: 0.41, Acc-train: 0.99, Acc-valid: 0.9250\n",
      "Iter:  30, CE-train: 0.02, CE-valid: 0.39, Acc-train: 1.00, Acc-valid: 0.9300\n",
      "Iter:  31, CE-train: 0.02, CE-valid: 0.37, Acc-train: 1.00, Acc-valid: 0.9390\n",
      "Iter:  32, CE-train: 0.02, CE-valid: 0.39, Acc-train: 1.00, Acc-valid: 0.9390\n",
      "Iter:  33, CE-train: 0.02, CE-valid: 0.42, Acc-train: 0.99, Acc-valid: 0.9340\n",
      "Iter:  34, CE-train: 0.01, CE-valid: 0.40, Acc-train: 1.00, Acc-valid: 0.9300\n",
      "Iter:  35, CE-train: 0.02, CE-valid: 0.41, Acc-train: 0.99, Acc-valid: 0.9340\n",
      "Iter:  36, CE-train: 0.02, CE-valid: 0.44, Acc-train: 1.00, Acc-valid: 0.9260\n",
      "Iter:  37, CE-train: 0.02, CE-valid: 0.42, Acc-train: 1.00, Acc-valid: 0.9320\n",
      "Iter:  38, CE-train: 0.02, CE-valid: 0.39, Acc-train: 0.99, Acc-valid: 0.9330\n",
      "Iter:  39, CE-train: 0.01, CE-valid: 0.41, Acc-train: 1.00, Acc-valid: 0.9300\n",
      "Iter:  40, CE-train: 0.01, CE-valid: 0.39, Acc-train: 1.00, Acc-valid: 0.9300\n",
      "Iter:  41, CE-train: 0.01, CE-valid: 0.40, Acc-train: 1.00, Acc-valid: 0.9330\n",
      "Iter:  42, CE-train: 0.01, CE-valid: 0.40, Acc-train: 1.00, Acc-valid: 0.9270\n",
      "Iter:  43, CE-train: 0.02, CE-valid: 0.38, Acc-train: 1.00, Acc-valid: 0.9330\n",
      "Iter:  44, CE-train: 0.01, CE-valid: 0.38, Acc-train: 1.00, Acc-valid: 0.9400\n",
      "Iter:  45, CE-train: 0.02, CE-valid: 0.38, Acc-train: 0.99, Acc-valid: 0.9310\n",
      "Iter:  46, CE-train: 0.01, CE-valid: 0.39, Acc-train: 1.00, Acc-valid: 0.9260\n",
      "Iter:  47, CE-train: 0.02, CE-valid: 0.38, Acc-train: 1.00, Acc-valid: 0.9320\n",
      "Iter:  48, CE-train: 0.04, CE-valid: 0.39, Acc-train: 0.99, Acc-valid: 0.9280\n",
      "Iter:  49, CE-train: 0.02, CE-valid: 0.37, Acc-train: 1.00, Acc-valid: 0.9330\n",
      "Iter:  50, CE-train: 0.02, CE-valid: 0.39, Acc-train: 0.99, Acc-valid: 0.9280\n",
      "Iter:  51, CE-train: 0.04, CE-valid: 0.40, Acc-train: 0.98, Acc-valid: 0.9230\n",
      "Iter:  52, CE-train: 0.02, CE-valid: 0.41, Acc-train: 0.99, Acc-valid: 0.9320\n",
      "Iter:  53, CE-train: 0.03, CE-valid: 0.39, Acc-train: 0.99, Acc-valid: 0.9250\n",
      "Iter:  54, CE-train: 0.04, CE-valid: 0.39, Acc-train: 0.98, Acc-valid: 0.9290\n",
      "Iter:  55, CE-train: 0.02, CE-valid: 0.39, Acc-train: 0.99, Acc-valid: 0.9280\n",
      "Iter:  56, CE-train: 0.01, CE-valid: 0.39, Acc-train: 1.00, Acc-valid: 0.9310\n",
      "Iter:  57, CE-train: 0.01, CE-valid: 0.42, Acc-train: 1.00, Acc-valid: 0.9250\n",
      "Iter:  58, CE-train: 0.01, CE-valid: 0.38, Acc-train: 1.00, Acc-valid: 0.9340\n",
      "Iter:  59, CE-train: 0.01, CE-valid: 0.43, Acc-train: 1.00, Acc-valid: 0.9250\n",
      "Iter:  60, CE-train: 0.01, CE-valid: 0.38, Acc-train: 1.00, Acc-valid: 0.9350\n",
      "Iter:  61, CE-train: 0.01, CE-valid: 0.38, Acc-train: 1.00, Acc-valid: 0.9280\n",
      "Iter:  62, CE-train: 0.01, CE-valid: 0.39, Acc-train: 1.00, Acc-valid: 0.9320\n",
      "Iter:  63, CE-train: 0.01, CE-valid: 0.38, Acc-train: 1.00, Acc-valid: 0.9380\n",
      "Iter:  64, CE-train: 0.01, CE-valid: 0.39, Acc-train: 1.00, Acc-valid: 0.9350\n",
      "Iter:  65, CE-train: 0.01, CE-valid: 0.38, Acc-train: 1.00, Acc-valid: 0.9360\n",
      "Iter:  66, CE-train: 0.01, CE-valid: 0.39, Acc-train: 1.00, Acc-valid: 0.9330\n",
      "Iter:  67, CE-train: 0.01, CE-valid: 0.37, Acc-train: 1.00, Acc-valid: 0.9350\n",
      "Iter:  68, CE-train: 0.01, CE-valid: 0.36, Acc-train: 1.00, Acc-valid: 0.9360\n",
      "Iter:  69, CE-train: 0.01, CE-valid: 0.37, Acc-train: 1.00, Acc-valid: 0.9360\n",
      "Iter:  70, CE-train: 0.01, CE-valid: 0.36, Acc-train: 1.00, Acc-valid: 0.9320\n",
      "Iter:  71, CE-train: 0.01, CE-valid: 0.38, Acc-train: 1.00, Acc-valid: 0.9300\n",
      "Iter:  72, CE-train: 0.01, CE-valid: 0.36, Acc-train: 1.00, Acc-valid: 0.9330\n",
      "Iter:  73, CE-train: 0.01, CE-valid: 0.36, Acc-train: 1.00, Acc-valid: 0.9320\n",
      "Iter:  74, CE-train: 0.01, CE-valid: 0.39, Acc-train: 1.00, Acc-valid: 0.9300\n",
      "Iter:  75, CE-train: 0.02, CE-valid: 0.37, Acc-train: 0.99, Acc-valid: 0.9330\n",
      "Iter:  76, CE-train: 0.02, CE-valid: 0.42, Acc-train: 1.00, Acc-valid: 0.9260\n",
      "Iter:  77, CE-train: 0.01, CE-valid: 0.36, Acc-train: 1.00, Acc-valid: 0.9350\n",
      "Iter:  78, CE-train: 0.04, CE-valid: 0.39, Acc-train: 0.99, Acc-valid: 0.9310\n",
      "Iter:  79, CE-train: 0.03, CE-valid: 0.40, Acc-train: 0.99, Acc-valid: 0.9340\n",
      "Iter:  80, CE-train: 0.02, CE-valid: 0.37, Acc-train: 0.99, Acc-valid: 0.9370\n",
      "Iter:  81, CE-train: 0.02, CE-valid: 0.47, Acc-train: 1.00, Acc-valid: 0.9220\n",
      "Iter:  82, CE-train: 0.02, CE-valid: 0.40, Acc-train: 0.99, Acc-valid: 0.9320\n",
      "Iter:  83, CE-train: 0.01, CE-valid: 0.41, Acc-train: 1.00, Acc-valid: 0.9310\n",
      "Iter:  84, CE-train: 0.01, CE-valid: 0.37, Acc-train: 1.00, Acc-valid: 0.9340\n",
      "Iter:  85, CE-train: 0.01, CE-valid: 0.39, Acc-train: 1.00, Acc-valid: 0.9250\n",
      "Iter:  86, CE-train: 0.03, CE-valid: 0.42, Acc-train: 0.99, Acc-valid: 0.9250\n",
      "Iter:  87, CE-train: 0.00, CE-valid: 0.39, Acc-train: 1.00, Acc-valid: 0.9310\n",
      "Iter:  88, CE-train: 0.01, CE-valid: 0.40, Acc-train: 1.00, Acc-valid: 0.9320\n",
      "Iter:  89, CE-train: 0.01, CE-valid: 0.39, Acc-train: 1.00, Acc-valid: 0.9320\n",
      "Iter:  90, CE-train: 0.01, CE-valid: 0.41, Acc-train: 1.00, Acc-valid: 0.9260\n",
      "Iter:  91, CE-train: 0.01, CE-valid: 0.38, Acc-train: 1.00, Acc-valid: 0.9360\n",
      "Iter:  92, CE-train: 0.00, CE-valid: 0.39, Acc-train: 1.00, Acc-valid: 0.9350\n",
      "Iter:  93, CE-train: 0.00, CE-valid: 0.41, Acc-train: 1.00, Acc-valid: 0.9350\n",
      "Iter:  94, CE-train: 0.01, CE-valid: 0.40, Acc-train: 1.00, Acc-valid: 0.9310\n",
      "Iter:  95, CE-train: 0.01, CE-valid: 0.40, Acc-train: 1.00, Acc-valid: 0.9310\n",
      "Iter:  96, CE-train: 0.01, CE-valid: 0.38, Acc-train: 1.00, Acc-valid: 0.9330\n",
      "Iter:  97, CE-train: 0.00, CE-valid: 0.37, Acc-train: 1.00, Acc-valid: 0.9330\n",
      "Iter:  98, CE-train: 0.01, CE-valid: 0.38, Acc-train: 1.00, Acc-valid: 0.9390\n",
      "Iter:  99, CE-train: 0.01, CE-valid: 0.38, Acc-train: 1.00, Acc-valid: 0.9340\n",
      "Iter: 100, CE-train: 0.00, CE-valid: 0.36, Acc-train: 1.00, Acc-valid: 0.9360\n",
      "Iter: 101, CE-train: 0.01, CE-valid: 0.36, Acc-train: 1.00, Acc-valid: 0.9320\n",
      "Iter: 102, CE-train: 0.00, CE-valid: 0.34, Acc-train: 1.00, Acc-valid: 0.9390\n",
      "Iter: 103, CE-train: 0.00, CE-valid: 0.33, Acc-train: 1.00, Acc-valid: 0.9390\n",
      "Iter: 104, CE-train: 0.00, CE-valid: 0.33, Acc-train: 1.00, Acc-valid: 0.9380\n",
      "Iter: 105, CE-train: 0.00, CE-valid: 0.35, Acc-train: 1.00, Acc-valid: 0.9350\n",
      "Iter: 106, CE-train: 0.00, CE-valid: 0.35, Acc-train: 1.00, Acc-valid: 0.9350\n",
      "Iter: 107, CE-train: 0.01, CE-valid: 0.35, Acc-train: 1.00, Acc-valid: 0.9360\n",
      "Iter: 108, CE-train: 0.01, CE-valid: 0.38, Acc-train: 1.00, Acc-valid: 0.9320\n",
      "Iter: 109, CE-train: 0.01, CE-valid: 0.34, Acc-train: 1.00, Acc-valid: 0.9330\n",
      "Iter: 110, CE-train: 0.01, CE-valid: 0.35, Acc-train: 1.00, Acc-valid: 0.9380\n",
      "Iter: 111, CE-train: 0.03, CE-valid: 0.38, Acc-train: 0.99, Acc-valid: 0.9270\n",
      "Iter: 112, CE-train: 0.06, CE-valid: 0.42, Acc-train: 0.98, Acc-valid: 0.9200\n",
      "Iter: 113, CE-train: 0.03, CE-valid: 0.40, Acc-train: 0.99, Acc-valid: 0.9170\n",
      "Iter: 114, CE-train: 0.03, CE-valid: 0.44, Acc-train: 0.99, Acc-valid: 0.9160\n",
      "Iter: 115, CE-train: 0.04, CE-valid: 0.44, Acc-train: 0.98, Acc-valid: 0.9180\n",
      "Iter: 116, CE-train: 0.05, CE-valid: 0.40, Acc-train: 0.99, Acc-valid: 0.9210\n",
      "Iter: 117, CE-train: 0.03, CE-valid: 0.39, Acc-train: 0.99, Acc-valid: 0.9280\n",
      "Iter: 118, CE-train: 0.01, CE-valid: 0.39, Acc-train: 1.00, Acc-valid: 0.9320\n",
      "Iter: 119, CE-train: 0.01, CE-valid: 0.38, Acc-train: 1.00, Acc-valid: 0.9310\n",
      "Iter: 120, CE-train: 0.00, CE-valid: 0.40, Acc-train: 1.00, Acc-valid: 0.9340\n",
      "Iter: 121, CE-train: 0.01, CE-valid: 0.41, Acc-train: 1.00, Acc-valid: 0.9280\n",
      "Iter: 122, CE-train: 0.00, CE-valid: 0.42, Acc-train: 1.00, Acc-valid: 0.9290\n",
      "Iter: 123, CE-train: 0.00, CE-valid: 0.41, Acc-train: 1.00, Acc-valid: 0.9310\n",
      "Iter: 124, CE-train: 0.00, CE-valid: 0.40, Acc-train: 1.00, Acc-valid: 0.9290\n",
      "Iter: 125, CE-train: 0.00, CE-valid: 0.38, Acc-train: 1.00, Acc-valid: 0.9340\n",
      "Iter: 126, CE-train: 0.00, CE-valid: 0.38, Acc-train: 1.00, Acc-valid: 0.9340\n",
      "Iter: 127, CE-train: 0.00, CE-valid: 0.37, Acc-train: 1.00, Acc-valid: 0.9360\n",
      "Iter: 128, CE-train: 0.00, CE-valid: 0.36, Acc-train: 1.00, Acc-valid: 0.9330\n",
      "Iter: 129, CE-train: 0.00, CE-valid: 0.36, Acc-train: 1.00, Acc-valid: 0.9310\n",
      "Iter: 130, CE-train: 0.00, CE-valid: 0.36, Acc-train: 1.00, Acc-valid: 0.9340\n",
      "Iter: 131, CE-train: 0.01, CE-valid: 0.35, Acc-train: 1.00, Acc-valid: 0.9310\n",
      "Iter: 132, CE-train: 0.00, CE-valid: 0.36, Acc-train: 1.00, Acc-valid: 0.9320\n",
      "Iter: 133, CE-train: 0.00, CE-valid: 0.35, Acc-train: 1.00, Acc-valid: 0.9340\n",
      "Iter: 134, CE-train: 0.00, CE-valid: 0.36, Acc-train: 1.00, Acc-valid: 0.9320\n",
      "Iter: 135, CE-train: 0.00, CE-valid: 0.35, Acc-train: 1.00, Acc-valid: 0.9290\n",
      "Iter: 136, CE-train: 0.00, CE-valid: 0.35, Acc-train: 1.00, Acc-valid: 0.9310\n",
      "Iter: 137, CE-train: 0.00, CE-valid: 0.35, Acc-train: 1.00, Acc-valid: 0.9300\n",
      "Iter: 138, CE-train: 0.01, CE-valid: 0.35, Acc-train: 1.00, Acc-valid: 0.9300\n",
      "Iter: 139, CE-train: 0.00, CE-valid: 0.35, Acc-train: 1.00, Acc-valid: 0.9300\n",
      "Iter: 140, CE-train: 0.00, CE-valid: 0.35, Acc-train: 1.00, Acc-valid: 0.9290\n",
      "Iter: 141, CE-train: 0.00, CE-valid: 0.34, Acc-train: 1.00, Acc-valid: 0.9370\n",
      "Iter: 142, CE-train: 0.00, CE-valid: 0.34, Acc-train: 1.00, Acc-valid: 0.9330\n",
      "Iter: 143, CE-train: 0.00, CE-valid: 0.34, Acc-train: 1.00, Acc-valid: 0.9320\n",
      "Iter: 144, CE-train: 0.00, CE-valid: 0.35, Acc-train: 1.00, Acc-valid: 0.9270\n",
      "Iter: 145, CE-train: 0.00, CE-valid: 0.34, Acc-train: 1.00, Acc-valid: 0.9310\n",
      "Iter: 146, CE-train: 0.01, CE-valid: 0.35, Acc-train: 1.00, Acc-valid: 0.9310\n",
      "Iter: 147, CE-train: 0.00, CE-valid: 0.34, Acc-train: 1.00, Acc-valid: 0.9330\n",
      "Iter: 148, CE-train: 0.00, CE-valid: 0.35, Acc-train: 1.00, Acc-valid: 0.9330\n",
      "Iter: 149, CE-train: 0.00, CE-valid: 0.34, Acc-train: 1.00, Acc-valid: 0.9320\n",
      "Iter: 150, CE-train: 0.00, CE-valid: 0.34, Acc-train: 1.00, Acc-valid: 0.9350\n",
      "Iter: 151, CE-train: 0.01, CE-valid: 0.34, Acc-train: 1.00, Acc-valid: 0.9340\n",
      "Iter: 152, CE-train: 0.00, CE-valid: 0.34, Acc-train: 1.00, Acc-valid: 0.9340\n",
      "Iter: 153, CE-train: 0.01, CE-valid: 0.36, Acc-train: 1.00, Acc-valid: 0.9250\n",
      "Iter: 154, CE-train: 0.01, CE-valid: 0.38, Acc-train: 1.00, Acc-valid: 0.9320\n",
      "Iter: 155, CE-train: 0.07, CE-valid: 0.40, Acc-train: 0.97, Acc-valid: 0.9220\n",
      "Iter: 156, CE-train: 0.08, CE-valid: 0.44, Acc-train: 0.97, Acc-valid: 0.9140\n",
      "Iter: 157, CE-train: 0.07, CE-valid: 0.41, Acc-train: 0.98, Acc-valid: 0.9240\n",
      "Iter: 158, CE-train: 0.07, CE-valid: 0.44, Acc-train: 0.98, Acc-valid: 0.9250\n",
      "Iter: 159, CE-train: 0.03, CE-valid: 0.42, Acc-train: 0.99, Acc-valid: 0.9310\n",
      "Iter: 160, CE-train: 0.02, CE-valid: 0.39, Acc-train: 1.00, Acc-valid: 0.9320\n",
      "Iter: 161, CE-train: 0.01, CE-valid: 0.40, Acc-train: 1.00, Acc-valid: 0.9290\n",
      "Iter: 162, CE-train: 0.02, CE-valid: 0.41, Acc-train: 1.00, Acc-valid: 0.9290\n",
      "Iter: 163, CE-train: 0.02, CE-valid: 0.40, Acc-train: 1.00, Acc-valid: 0.9320\n",
      "Iter: 164, CE-train: 0.01, CE-valid: 0.39, Acc-train: 1.00, Acc-valid: 0.9280\n",
      "Iter: 165, CE-train: 0.01, CE-valid: 0.42, Acc-train: 1.00, Acc-valid: 0.9310\n",
      "Iter: 166, CE-train: 0.00, CE-valid: 0.40, Acc-train: 1.00, Acc-valid: 0.9260\n",
      "Iter: 167, CE-train: 0.00, CE-valid: 0.38, Acc-train: 1.00, Acc-valid: 0.9310\n",
      "Iter: 168, CE-train: 0.00, CE-valid: 0.38, Acc-train: 1.00, Acc-valid: 0.9360\n",
      "Iter: 169, CE-train: 0.00, CE-valid: 0.37, Acc-train: 1.00, Acc-valid: 0.9340\n",
      "Iter: 170, CE-train: 0.00, CE-valid: 0.37, Acc-train: 1.00, Acc-valid: 0.9360\n",
      "Iter: 171, CE-train: 0.00, CE-valid: 0.36, Acc-train: 1.00, Acc-valid: 0.9360\n",
      "Iter: 172, CE-train: 0.00, CE-valid: 0.36, Acc-train: 1.00, Acc-valid: 0.9360\n",
      "Iter: 173, CE-train: 0.00, CE-valid: 0.35, Acc-train: 1.00, Acc-valid: 0.9360\n",
      "Iter: 174, CE-train: 0.00, CE-valid: 0.35, Acc-train: 1.00, Acc-valid: 0.9360\n",
      "Iter: 175, CE-train: 0.00, CE-valid: 0.35, Acc-train: 1.00, Acc-valid: 0.9360\n",
      "Iter: 176, CE-train: 0.00, CE-valid: 0.35, Acc-train: 1.00, Acc-valid: 0.9370\n",
      "Iter: 177, CE-train: 0.00, CE-valid: 0.34, Acc-train: 1.00, Acc-valid: 0.9350\n",
      "Iter: 178, CE-train: 0.00, CE-valid: 0.34, Acc-train: 1.00, Acc-valid: 0.9350\n",
      "Iter: 179, CE-train: 0.00, CE-valid: 0.34, Acc-train: 1.00, Acc-valid: 0.9350\n",
      "Iter: 180, CE-train: 0.00, CE-valid: 0.34, Acc-train: 1.00, Acc-valid: 0.9360\n",
      "Iter: 181, CE-train: 0.00, CE-valid: 0.34, Acc-train: 1.00, Acc-valid: 0.9370\n",
      "Iter: 182, CE-train: 0.00, CE-valid: 0.34, Acc-train: 1.00, Acc-valid: 0.9370\n",
      "Iter: 183, CE-train: 0.00, CE-valid: 0.34, Acc-train: 1.00, Acc-valid: 0.9370\n",
      "Iter: 184, CE-train: 0.00, CE-valid: 0.34, Acc-train: 1.00, Acc-valid: 0.9380\n",
      "Iter: 185, CE-train: 0.00, CE-valid: 0.33, Acc-train: 1.00, Acc-valid: 0.9370\n",
      "Iter: 186, CE-train: 0.00, CE-valid: 0.34, Acc-train: 1.00, Acc-valid: 0.9380\n",
      "Iter: 187, CE-train: 0.00, CE-valid: 0.33, Acc-train: 1.00, Acc-valid: 0.9370\n",
      "Iter: 188, CE-train: 0.00, CE-valid: 0.33, Acc-train: 1.00, Acc-valid: 0.9380\n",
      "Iter: 189, CE-train: 0.00, CE-valid: 0.33, Acc-train: 1.00, Acc-valid: 0.9390\n",
      "Iter: 190, CE-train: 0.00, CE-valid: 0.33, Acc-train: 1.00, Acc-valid: 0.9380\n",
      "Iter: 191, CE-train: 0.00, CE-valid: 0.33, Acc-train: 1.00, Acc-valid: 0.9380\n",
      "Iter: 192, CE-train: 0.00, CE-valid: 0.33, Acc-train: 1.00, Acc-valid: 0.9390\n",
      "Iter: 193, CE-train: 0.00, CE-valid: 0.33, Acc-train: 1.00, Acc-valid: 0.9370\n",
      "Iter: 194, CE-train: 0.00, CE-valid: 0.33, Acc-train: 1.00, Acc-valid: 0.9350\n",
      "Iter: 195, CE-train: 0.00, CE-valid: 0.33, Acc-train: 1.00, Acc-valid: 0.9370\n",
      "Iter: 196, CE-train: 0.00, CE-valid: 0.33, Acc-train: 1.00, Acc-valid: 0.9380\n",
      "Iter: 197, CE-train: 0.01, CE-valid: 0.33, Acc-train: 1.00, Acc-valid: 0.9320\n",
      "Iter: 198, CE-train: 0.01, CE-valid: 0.34, Acc-train: 1.00, Acc-valid: 0.9330\n",
      "Iter: 199, CE-train: 0.02, CE-valid: 0.35, Acc-train: 1.00, Acc-valid: 0.9330\n",
      "Iter: 200, CE-train: 0.01, CE-valid: 0.43, Acc-train: 1.00, Acc-valid: 0.9210\n"
     ]
    }
   ],
   "source": [
    "for step in xrange(0,1000):\n",
    "        randIdx = np.arange(len(trainData))\n",
    "        np.random.shuffle(randIdx)\n",
    "        for i in range(int(len(trainData)/B)):\n",
    "            feeddict = {x: trainData[i*B:(i+1)*B], y_target: trainTarget[i*B:(i+1)*B], }\n",
    "            _, err, Acc = sess.run([train_op, crossEntropyError,acc], feed_dict=feeddict)\n",
    "        Val_err = loss.eval(feed_dict={x:validData, y_target:validTarget})\n",
    "        Val_Acc = acc.eval(feed_dict={x:validData, y_target:validTarget})\n",
    "        print(\"Iter: %3d, CE-train: %4.2f, CE-valid: %4.2f, Acc-train: %4.2f, Acc-valid: %4.4f\"%(step, err, Val_err, Acc, Val_Acc))"
   ]
  },
  {
   "cell_type": "code",
   "execution_count": null,
   "metadata": {
    "collapsed": true
   },
   "outputs": [],
   "source": []
  }
 ],
 "metadata": {
  "kernelspec": {
   "display_name": "Python 2",
   "language": "python",
   "name": "python2"
  },
  "language_info": {
   "codemirror_mode": {
    "name": "ipython",
    "version": 2
   },
   "file_extension": ".py",
   "mimetype": "text/x-python",
   "name": "python",
   "nbconvert_exporter": "python",
   "pygments_lexer": "ipython2",
   "version": "2.7.6"
  }
 },
 "nbformat": 4,
 "nbformat_minor": 2
}
